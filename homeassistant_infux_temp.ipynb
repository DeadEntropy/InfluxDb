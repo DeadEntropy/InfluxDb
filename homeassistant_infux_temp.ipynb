{
 "cells": [
  {
   "cell_type": "code",
   "execution_count": null,
   "id": "ca18c8a0",
   "metadata": {
    "ExecuteTime": {
     "end_time": "2024-12-06T18:46:39.832008Z",
     "start_time": "2024-12-06T18:46:38.604623Z"
    }
   },
   "outputs": [],
   "source": [
    "from influx_kwh import InfluxTempReader, format_entity_id\n",
    "from tqdm import tqdm\n",
    "import pandas as pd\n",
    "pd.options.plotting.backend = \"plotly\"\n",
    "import matplotlib.pyplot as plt\n",
    "import plotly.express as px\n",
    "from datetime import datetime\n",
    "from dateutil.relativedelta import relativedelta\n",
    "import numpy as np\n",
    "import pytz\n",
    "import math"
   ]
  },
  {
   "cell_type": "code",
   "execution_count": null,
   "id": "cfa4a54d",
   "metadata": {
    "ExecuteTime": {
     "end_time": "2024-12-06T18:46:42.654728Z",
     "start_time": "2024-12-06T18:46:39.834013Z"
    }
   },
   "outputs": [],
   "source": [
    "start_date = datetime(2024, 5, 2,0, 0, 0).replace(tzinfo=pytz.UTC)\n",
    "end_date = datetime.today().replace(tzinfo=pytz.UTC)\n",
    "\n",
    "host=''\n",
    "port=8086\n",
    "username = ''\n",
    "password = ''\n",
    "dbname = ''\n",
    "\n",
    "est = pytz.timezone('US/Eastern')"
   ]
  },
  {
   "cell_type": "code",
   "execution_count": null,
   "id": "9fa88c68",
   "metadata": {
    "ExecuteTime": {
     "end_time": "2024-12-06T18:46:47.892677Z",
     "start_time": "2024-12-06T18:46:42.655733Z"
    }
   },
   "outputs": [],
   "source": [
    "temp_reader = InfluxTempReader(host, port, username, password, dbname)\n",
    "nb_months = (end_date - start_date).days / 30\n",
    "import_ranges = [(start_date + relativedelta(days=30 * offset), start_date + relativedelta(days=30 * (offset+1))) for offset in range(math.ceil(nb_months))]\n",
    "df_stack = pd.concat([temp_reader.query_data(s, e) for (s,e) in tqdm(import_ranges)])\n",
    "df_stack.index = df_stack.index.tz_convert(est)"
   ]
  },
  {
   "cell_type": "code",
   "execution_count": null,
   "id": "590484a8",
   "metadata": {
    "ExecuteTime": {
     "end_time": "2024-12-06T18:46:48.014603Z",
     "start_time": "2024-12-06T18:46:47.894684Z"
    }
   },
   "outputs": [],
   "source": [
    "columns = [c for c in df_stack.columns if not c.startswith('temperature_sensor') and not '_t_' in c and not 'thermostat' in c and not 'Thermostat' in c]\n",
    "df_stack = df_stack[columns][df_stack.index > '2024-05-03'].dropna(how='all').rename(columns=format_entity_id)"
   ]
  },
  {
   "cell_type": "code",
   "execution_count": null,
   "id": "3073ee8a",
   "metadata": {
    "ExecuteTime": {
     "end_time": "2024-12-06T18:46:48.021409Z",
     "start_time": "2024-12-06T18:46:48.015604Z"
    }
   },
   "outputs": [],
   "source": [
    "cols = [c for c in df_stack.columns if c != 'Aqara Temp Humidity Sensor']\n",
    "df_stack = df_stack[cols]"
   ]
  },
  {
   "cell_type": "code",
   "execution_count": null,
   "id": "ba2af823",
   "metadata": {
    "ExecuteTime": {
     "end_time": "2024-12-06T18:46:48.077224Z",
     "start_time": "2024-12-06T18:46:48.022415Z"
    }
   },
   "outputs": [],
   "source": [
    "df_stack"
   ]
  },
  {
   "cell_type": "code",
   "execution_count": null,
   "id": "0a3e7cf0",
   "metadata": {
    "ExecuteTime": {
     "end_time": "2024-12-06T18:46:51.952685Z",
     "start_time": "2024-12-06T18:46:48.078229Z"
    }
   },
   "outputs": [],
   "source": [
    "df_stack.resample('H').mean().plot()"
   ]
  },
  {
   "cell_type": "code",
   "execution_count": null,
   "id": "92b474b0",
   "metadata": {
    "ExecuteTime": {
     "end_time": "2024-12-06T18:46:56.583437Z",
     "start_time": "2024-12-06T18:46:51.954691Z"
    }
   },
   "outputs": [],
   "source": [
    "# Import Meteostat library and dependencies\n",
    "from datetime import datetime\n",
    "from meteostat import Point, Hourly, units\n",
    "\n",
    "start = datetime(2024, 5, 2,0, 0, 0)\n",
    "end = datetime.today()\n",
    "\n",
    "location = Point(26.077885, -80.321570)\n",
    "\n",
    "data = Hourly(location, start, end)\n",
    "data = data.convert(units.imperial)\n",
    "data = data.fetch()"
   ]
  },
  {
   "cell_type": "code",
   "execution_count": null,
   "id": "bf3de100",
   "metadata": {
    "ExecuteTime": {
     "end_time": "2024-12-06T18:47:56.338470Z",
     "start_time": "2024-12-06T18:46:56.584790Z"
    }
   },
   "outputs": [],
   "source": [
    "data.index = [d.replace(tzinfo=pytz.UTC).astimezone(est) for d in data.index]\n",
    "df_stack['meteo'] = data['temp']\n",
    "df_stack.meteo = df_stack.meteo.ffill().bfill()"
   ]
  },
  {
   "cell_type": "code",
   "execution_count": null,
   "id": "d748bf9c",
   "metadata": {
    "ExecuteTime": {
     "end_time": "2024-12-06T18:47:59.306805Z",
     "start_time": "2024-12-06T18:47:56.341475Z"
    }
   },
   "outputs": [],
   "source": [
    "df_stack[['Pool Temp', 'meteo']].plot()"
   ]
  },
  {
   "cell_type": "code",
   "execution_count": null,
   "id": "882c3319",
   "metadata": {
    "ExecuteTime": {
     "end_time": "2024-12-06T18:49:01.559267Z",
     "start_time": "2024-12-06T18:47:59.308813Z"
    }
   },
   "outputs": [],
   "source": [
    "df_rolling_mean_diff = df_stack.rolling(30).apply(np.mean).diff()"
   ]
  },
  {
   "cell_type": "code",
   "execution_count": null,
   "id": "284763b0",
   "metadata": {
    "ExecuteTime": {
     "end_time": "2024-12-06T18:49:01.572366Z",
     "start_time": "2024-12-06T18:49:01.564287Z"
    }
   },
   "outputs": [],
   "source": [
    "group1 = []\n",
    "group2 = []\n",
    "group3 = []\n",
    "group4 = []\n",
    "\n",
    "columns = group1 + group2 + group3 + group4"
   ]
  },
  {
   "cell_type": "code",
   "execution_count": null,
   "id": "976c5a65",
   "metadata": {
    "ExecuteTime": {
     "end_time": "2024-12-06T18:49:01.799618Z",
     "start_time": "2024-12-06T18:49:01.573905Z"
    }
   },
   "outputs": [],
   "source": [
    "df_rolling_mean_diff[columns].corr().style.background_gradient(axis=None) "
   ]
  }
 ],
 "metadata": {
  "kernelspec": {
   "display_name": "Python 3 (ipykernel)",
   "language": "python",
   "name": "python3"
  },
  "language_info": {
   "codemirror_mode": {
    "name": "ipython",
    "version": 3
   },
   "file_extension": ".py",
   "mimetype": "text/x-python",
   "name": "python",
   "nbconvert_exporter": "python",
   "pygments_lexer": "ipython3",
   "version": "3.13.1"
  }
 },
 "nbformat": 4,
 "nbformat_minor": 5
}
