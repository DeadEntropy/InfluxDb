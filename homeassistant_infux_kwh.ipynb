{
 "cells": [
  {
   "cell_type": "code",
   "execution_count": null,
   "id": "ca18c8a0",
   "metadata": {
    "ExecuteTime": {
     "end_time": "2024-12-06T18:43:30.934882Z",
     "start_time": "2024-12-06T18:43:20.634841Z"
    }
   },
   "outputs": [],
   "source": [
    "from influx_kwh import InfluxKwhReader, KwhToPrice, format_entity_id\n",
    "from tqdm import tqdm\n",
    "import pandas as pd\n",
    "import matplotlib.pyplot as plt\n",
    "import plotly.express as px\n",
    "from datetime import datetime\n",
    "from dateutil.relativedelta import relativedelta\n",
    "import numpy as np\n",
    "import pytz\n",
    "import math"
   ]
  },
  {
   "cell_type": "code",
   "execution_count": null,
   "id": "cfa4a54d",
   "metadata": {
    "ExecuteTime": {
     "end_time": "2024-12-06T18:43:30.942912Z",
     "start_time": "2024-12-06T18:43:30.936888Z"
    }
   },
   "outputs": [],
   "source": [
    "start_date = datetime(2024, 1, 1,0, 0, 0).replace(tzinfo=pytz.UTC)\n",
    "end_date = datetime.today().replace(tzinfo=pytz.UTC)\n",
    "\n",
    "host=''\n",
    "port=8086\n",
    "username = ''\n",
    "password = ''\n",
    "dbname = ''"
   ]
  },
  {
   "cell_type": "code",
   "execution_count": null,
   "id": "13e421d6",
   "metadata": {
    "ExecuteTime": {
     "end_time": "2024-12-06T18:44:41.106305Z",
     "start_time": "2024-12-06T18:43:30.944939Z"
    }
   },
   "outputs": [],
   "source": [
    "kwh_reader = InfluxKwhReader(host, port, username, password, dbname)\n",
    "nb_months = (end_date - start_date).days / 30\n",
    "import_ranges = [(start_date + relativedelta(days=30 * offset), start_date + relativedelta(days=30 * (offset+1))) for offset in range(math.ceil(nb_months))]\n",
    "df_stack = pd.concat([kwh_reader.query_data(s, e) for (s,e) in tqdm(import_ranges)])"
   ]
  },
  {
   "cell_type": "code",
   "execution_count": null,
   "id": "7382db90",
   "metadata": {
    "ExecuteTime": {
     "end_time": "2024-12-06T18:44:41.485509Z",
     "start_time": "2024-12-06T18:44:41.107311Z"
    }
   },
   "outputs": [],
   "source": [
    "df_daily_total = df_stack.groupby(df_stack.index.floor('d')).last()\n",
    "mean_kwh_per_entity = df_daily_total.apply(np.mean).sort_values(ascending=False)\n",
    "cols_to_display = list(mean_kwh_per_entity.index[1:])"
   ]
  },
  {
   "cell_type": "code",
   "execution_count": null,
   "id": "09dda928",
   "metadata": {
    "ExecuteTime": {
     "end_time": "2024-12-06T18:44:41.556155Z",
     "start_time": "2024-12-06T18:44:41.488516Z"
    }
   },
   "outputs": [],
   "source": [
    "df_stack.tail()"
   ]
  },
  {
   "cell_type": "code",
   "execution_count": null,
   "id": "64911b89",
   "metadata": {
    "ExecuteTime": {
     "end_time": "2024-12-06T18:44:53.077202Z",
     "start_time": "2024-12-06T18:44:41.558161Z"
    }
   },
   "outputs": [],
   "source": [
    "daily_consumption = df_stack[cols_to_display].rename(columns=format_entity_id).resample('D').max()\n",
    "fig = px.area(daily_consumption.rolling(5).mean().fillna(0.0))\n",
    "fig.show()"
   ]
  },
  {
   "cell_type": "code",
   "execution_count": null,
   "id": "f91edb78",
   "metadata": {
    "ExecuteTime": {
     "end_time": "2024-12-06T18:44:53.096386Z",
     "start_time": "2024-12-06T18:44:53.079212Z"
    }
   },
   "outputs": [],
   "source": [
    "daily_consumption"
   ]
  },
  {
   "cell_type": "code",
   "execution_count": null,
   "id": "47b14127",
   "metadata": {
    "ExecuteTime": {
     "end_time": "2024-12-06T18:44:53.904148Z",
     "start_time": "2024-12-06T18:44:53.098398Z"
    }
   },
   "outputs": [],
   "source": [
    "daily_consumption[['Air Compressor 1', 'Air Compressor 2']].sum(axis=1)\\\n",
    "    .rolling(7).mean().plot(figsize=(15,5), grid=True)"
   ]
  },
  {
   "cell_type": "code",
   "execution_count": null,
   "id": "fd237c49",
   "metadata": {
    "ExecuteTime": {
     "end_time": "2024-12-06T18:44:53.910705Z",
     "start_time": "2024-12-06T18:44:53.905153Z"
    }
   },
   "outputs": [],
   "source": [
    "KwhToPrice().price(70, 30)"
   ]
  },
  {
   "cell_type": "code",
   "execution_count": null,
   "id": "da09e35a",
   "metadata": {
    "ExecuteTime": {
     "end_time": "2024-12-06T18:44:53.920426Z",
     "start_time": "2024-12-06T18:44:53.912712Z"
    }
   },
   "outputs": [],
   "source": [
    "daily_consumption.mean().apply(lambda x: KwhToPrice().incremental_price(x, 30)).sort_values(ascending=False)"
   ]
  },
  {
   "cell_type": "code",
   "execution_count": null,
   "id": "4533c16a",
   "metadata": {
    "ExecuteTime": {
     "end_time": "2024-12-06T18:44:53.929604Z",
     "start_time": "2024-12-06T18:44:53.922435Z"
    }
   },
   "outputs": [],
   "source": [
    "daily_consumption['2024-06-01':].mean().apply(lambda x: KwhToPrice().incremental_price(x, 30)).sort_values(ascending=False)"
   ]
  }
 ],
 "metadata": {
  "kernelspec": {
   "display_name": "Python 3 (ipykernel)",
   "language": "python",
   "name": "python3"
  },
  "language_info": {
   "codemirror_mode": {
    "name": "ipython",
    "version": 3
   },
   "file_extension": ".py",
   "mimetype": "text/x-python",
   "name": "python",
   "nbconvert_exporter": "python",
   "pygments_lexer": "ipython3",
   "version": "3.13.1"
  }
 },
 "nbformat": 4,
 "nbformat_minor": 5
}
