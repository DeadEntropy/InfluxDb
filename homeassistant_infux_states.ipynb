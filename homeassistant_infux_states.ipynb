{
 "cells": [
  {
   "cell_type": "code",
   "execution_count": null,
   "id": "ca18c8a0",
   "metadata": {
    "ExecuteTime": {
     "end_time": "2024-11-25T15:01:15.003475Z",
     "start_time": "2024-11-25T15:01:14.307915Z"
    }
   },
   "outputs": [],
   "source": [
    "from tqdm import tqdm\n",
    "import pandas as pd\n",
    "import plotly.express as px\n",
    "from datetime import datetime\n",
    "from dateutil.relativedelta import relativedelta\n",
    "import numpy as np\n",
    "import pytz\n",
    "import math"
   ]
  },
  {
   "cell_type": "code",
   "execution_count": null,
   "id": "cfa4a54d",
   "metadata": {
    "ExecuteTime": {
     "end_time": "2024-11-25T15:01:15.127706Z",
     "start_time": "2024-11-25T15:01:15.005488Z"
    }
   },
   "outputs": [],
   "source": [
    "start_date = datetime(2024, 8, 13,0, 0, 0).replace(tzinfo=pytz.UTC)\n",
    "end_date = datetime.today().replace(tzinfo=pytz.UTC)\n",
    "\n",
    "host=''\n",
    "port=8086\n",
    "username = ''\n",
    "password = ''\n",
    "dbname = ''\n",
    "\n",
    "est = pytz.timezone('US/Eastern')\n",
    "\n",
    "entity_id = 'thermostat_extension'"
   ]
  },
  {
   "cell_type": "code",
   "execution_count": null,
   "id": "e2bdfdf1",
   "metadata": {
    "ExecuteTime": {
     "end_time": "2024-11-25T15:01:15.245896Z",
     "start_time": "2024-11-25T15:01:15.128713Z"
    }
   },
   "outputs": [],
   "source": [
    "from influxdb import DataFrameClient\n",
    "from datetime import datetime\n",
    "import pandas as pd\n",
    "\n",
    "class InfluxStateReader:\n",
    "    @staticmethod\n",
    "    def _get_query(s, e, entity):\n",
    "        return f\"SELECT * FROM \\\"homeassistant\\\".\\\"autogen\\\".\\\"state\\\" WHERE time >= \\'{s}\\'  AND (\\\"entity_id\\\"='{entity}')\"\n",
    "    @staticmethod\n",
    "    def _get_query_all(s, e):\n",
    "        return f\"SELECT * FROM \\\"homeassistant\\\".\\\"autogen\\\".\\\"state\\\" WHERE time >= \\'{s}\\'\"\n",
    "    \n",
    "    def __init__(self, host, port, username, password, dbname):\n",
    "        self._client = DataFrameClient(host=host, port=port, username=username, password=password)\n",
    "        self._client.switch_database(dbname)\n",
    "    \n",
    "    def query_data(self, start_date:datetime, end_date:datetime, entity = None):\n",
    "        s = start_date.strftime(\"%Y-%m-%d\")\n",
    "        e = end_date.strftime(\"%Y-%m-%d\")\n",
    "        if entity is None:\n",
    "            return self._client.query(InfluxStateReader._get_query_all(s, e))            \n",
    "        return self._client.query(InfluxStateReader._get_query(s, e, entity))"
   ]
  },
  {
   "cell_type": "code",
   "execution_count": null,
   "id": "6979938e",
   "metadata": {
    "ExecuteTime": {
     "end_time": "2024-11-25T15:01:35.629029Z",
     "start_time": "2024-11-25T15:01:15.247902Z"
    }
   },
   "outputs": [],
   "source": [
    "NB_DAY_BATCH = 10\n",
    "temp_reader = InfluxStateReader(host, port, username, password, dbname)\n",
    "nb_months = (end_date - start_date).days / NB_DAY_BATCH\n",
    "import_ranges = [(start_date + relativedelta(days=NB_DAY_BATCH * offset), start_date + relativedelta(days=NB_DAY_BATCH * (offset+1))) for offset in range(math.ceil(nb_months))]\n",
    "stack = [temp_reader.query_data(s, e, entity_id) for (s,e) in tqdm(import_ranges)]"
   ]
  },
  {
   "cell_type": "code",
   "execution_count": null,
   "id": "13e421d6",
   "metadata": {
    "ExecuteTime": {
     "end_time": "2024-11-25T15:01:35.686036Z",
     "start_time": "2024-11-25T15:01:35.631039Z"
    }
   },
   "outputs": [],
   "source": [
    "df_stack = pd.concat([pd.DataFrame(s['state']) for s in stack])#['friendly_name_str']\n",
    "df_stack.index = df_stack.index.tz_convert(est)"
   ]
  },
  {
   "cell_type": "code",
   "execution_count": null,
   "id": "4def2754",
   "metadata": {
    "ExecuteTime": {
     "end_time": "2024-11-25T15:21:05.259475Z",
     "start_time": "2024-11-25T15:21:05.223359Z"
    }
   },
   "outputs": [],
   "source": [
    "df_stack.head()"
   ]
  },
  {
   "cell_type": "code",
   "execution_count": null,
   "id": "20417459",
   "metadata": {
    "ExecuteTime": {
     "end_time": "2024-11-25T15:21:22.984323Z",
     "start_time": "2024-11-25T15:21:22.960580Z"
    }
   },
   "outputs": [],
   "source": [
    "df_stack.hvac_action_str"
   ]
  },
  {
   "cell_type": "code",
   "execution_count": null,
   "id": "17c3ddd8",
   "metadata": {
    "ExecuteTime": {
     "end_time": "2024-11-25T15:05:56.486661Z",
     "start_time": "2024-11-25T15:05:56.439604Z"
    }
   },
   "outputs": [],
   "source": [
    "df = df_stack[['entity_id', 'temperature', 'current_temperature']].reset_index(names=['Time']).set_index(['entity_id', 'Time']).sort_index()"
   ]
  },
  {
   "cell_type": "code",
   "execution_count": null,
   "id": "a708e783",
   "metadata": {
    "ExecuteTime": {
     "end_time": "2024-11-25T15:19:33.768743Z",
     "start_time": "2024-11-25T15:19:33.203874Z"
    }
   },
   "outputs": [],
   "source": [
    "df_b = df.loc[entity_id].reset_index().drop_duplicates().set_index('Time').resample('5Min').ffill()\n",
    "df_b = df_b.sort_index()\n",
    "df_b = df_b.ffill()\n",
    "df_b['Date'] = [i.date() for i in df_b.index]\n",
    "df_b['Time'] = [i.time() for i in df_b.index]\n",
    "df_b = df_b.reset_index(drop=True)\n",
    "df_b = pd.pivot_table(df_b, index='Time', values=['temperature', 'current_temperature'], aggfunc=[np.mean, lambda x : np.percentile(x, 25), lambda x : np.percentile(x, 75)])\n",
    "df_b.columns = ['mean current_temperature', 'mean temperature', ' lower current_temperature', 'lower temperature', 'upper current_temperature', 'upper temperature']"
   ]
  },
  {
   "cell_type": "code",
   "execution_count": null,
   "id": "a4ab9223",
   "metadata": {
    "ExecuteTime": {
     "end_time": "2024-11-25T15:19:33.783676Z",
     "start_time": "2024-11-25T15:19:33.770733Z"
    }
   },
   "outputs": [],
   "source": [
    "df_b"
   ]
  },
  {
   "cell_type": "code",
   "execution_count": null,
   "id": "9d21ec46",
   "metadata": {
    "ExecuteTime": {
     "end_time": "2024-11-25T15:19:34.880277Z",
     "start_time": "2024-11-25T15:19:34.874684Z"
    }
   },
   "outputs": [],
   "source": [
    "df_b.columns"
   ]
  },
  {
   "cell_type": "code",
   "execution_count": null,
   "id": "cb255641",
   "metadata": {
    "ExecuteTime": {
     "end_time": "2024-11-25T15:19:37.407148Z",
     "start_time": "2024-11-25T15:19:37.319859Z"
    }
   },
   "outputs": [],
   "source": [
    "fig  = px.line(df_b, title='Average Use')\n",
    "fig['data'][0]['line']['color']='red'\n",
    "fig['data'][1]['line']['color']='blue'\n",
    "fig['data'][2]['line']['color']='red'\n",
    "fig['data'][3]['line']['color']='blue'\n",
    "fig['data'][4]['line']['color']='red'\n",
    "fig['data'][5]['line']['color']='blue'\n",
    "fig.show()"
   ]
  },
  {
   "cell_type": "code",
   "execution_count": null,
   "id": "92467b17",
   "metadata": {
    "ExecuteTime": {
     "end_time": "2024-11-25T15:07:17.847904Z",
     "start_time": "2024-11-25T15:07:12.784968Z"
    }
   },
   "outputs": [],
   "source": [
    "df.loc[entity_id].reset_index().drop_duplicates().set_index('Time').loc['2024-11-20':].plot()"
   ]
  },
  {
   "cell_type": "code",
   "execution_count": null,
   "id": "4242dca7",
   "metadata": {},
   "outputs": [],
   "source": []
  }
 ],
 "metadata": {
  "kernelspec": {
   "display_name": "Python 3 (ipykernel)",
   "language": "python",
   "name": "python3"
  },
  "language_info": {
   "codemirror_mode": {
    "name": "ipython",
    "version": 3
   },
   "file_extension": ".py",
   "mimetype": "text/x-python",
   "name": "python",
   "nbconvert_exporter": "python",
   "pygments_lexer": "ipython3",
   "version": "3.13.1"
  }
 },
 "nbformat": 4,
 "nbformat_minor": 5
}
